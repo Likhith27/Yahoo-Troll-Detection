{
  "cells": [
    {
      "cell_type": "markdown",
      "metadata": {
        "id": "zLzQQILK6ZSB"
      },
      "source": [
        "#Data Collection"
      ]
    },
    {
      "cell_type": "markdown",
      "metadata": {
        "id": "z5e9z0tU6v7i"
      },
      "source": [
        "## Import Modules"
      ]
    },
    {
      "cell_type": "code",
      "execution_count": 268,
      "metadata": {
        "execution": {
          "iopub.execute_input": "2022-11-21T11:05:20.054990Z",
          "iopub.status.busy": "2022-11-21T11:05:20.054381Z",
          "iopub.status.idle": "2022-11-21T11:05:21.413677Z",
          "shell.execute_reply": "2022-11-21T11:05:21.412613Z",
          "shell.execute_reply.started": "2022-11-21T11:05:20.054851Z"
        },
        "id": "eTXG-EIxTH1g",
        "trusted": true
      },
      "outputs": [],
      "source": [
        "import random\n",
        "import numpy as np \n",
        "import pandas as pd\n",
        "import seaborn as sns\n",
        "from sklearn.metrics import mean_absolute_error\n",
        "from sklearn.metrics import mean_squared_error\n",
        "import matplotlib.pyplot as plt\n",
        "from sklearn.tree import DecisionTreeClassifier\n",
        "from sklearn.linear_model import LogisticRegression\n",
        "from sklearn.naive_bayes import GaussianNB, MultinomialNB\n",
        "from sklearn.neural_network import MLPClassifier\n",
        "from sklearn.datasets import make_classification"
      ]
    },
    {
      "cell_type": "code",
      "execution_count": null,
      "metadata": {
        "execution": {
          "iopub.execute_input": "2022-11-21T11:05:21.417129Z",
          "iopub.status.busy": "2022-11-21T11:05:21.416767Z",
          "iopub.status.idle": "2022-11-21T11:06:23.869757Z",
          "shell.execute_reply": "2022-11-21T11:06:23.868722Z",
          "shell.execute_reply.started": "2022-11-21T11:05:21.417094Z"
        },
        "id": "hB8eMXbQTkBw",
        "trusted": true
      },
      "outputs": [],
      "source": []
    },
    {
      "cell_type": "code",
      "execution_count": 269,
      "metadata": {
        "colab": {
          "base_uri": "https://localhost:8080/"
        },
        "id": "Ipc8g1vB4t6f",
        "outputId": "53b4f16a-0f36-44ae-aa55-2359fbeb2566"
      },
      "outputs": [],
      "source": [
        "# from google.colab import drive\n",
        "# drive.mount('/content/drive')"
      ]
    },
    {
      "cell_type": "markdown",
      "metadata": {
        "id": "qMX7fD8k63mw"
      },
      "source": [
        "##Collect Data"
      ]
    },
    {
      "cell_type": "code",
      "execution_count": 270,
      "metadata": {
        "execution": {
          "iopub.execute_input": "2022-11-21T11:06:23.871314Z",
          "iopub.status.busy": "2022-11-21T11:06:23.870989Z",
          "iopub.status.idle": "2022-11-21T11:06:23.876697Z",
          "shell.execute_reply": "2022-11-21T11:06:23.875563Z",
          "shell.execute_reply.started": "2022-11-21T11:06:23.871283Z"
        },
        "id": "n-vDPMXZKE-z",
        "trusted": true
      },
      "outputs": [],
      "source": [
        "import gc"
      ]
    },
    {
      "cell_type": "code",
      "execution_count": 271,
      "metadata": {
        "execution": {
          "iopub.execute_input": "2022-11-21T11:06:23.880364Z",
          "iopub.status.busy": "2022-11-21T11:06:23.879947Z",
          "iopub.status.idle": "2022-11-21T11:06:28.653146Z",
          "shell.execute_reply": "2022-11-21T11:06:28.652111Z",
          "shell.execute_reply.started": "2022-11-21T11:06:23.880323Z"
        },
        "id": "gHRefVZsTH1h",
        "trusted": true
      },
      "outputs": [],
      "source": [
        "main_df = pd.read_csv(\"train_df.csv\")\n",
        "test_df = pd.read_csv(\"test_df.csv\")\n"
      ]
    },
    {
      "cell_type": "code",
      "execution_count": 272,
      "metadata": {
        "colab": {
          "base_uri": "https://localhost:8080/"
        },
        "execution": {
          "iopub.execute_input": "2022-11-21T11:06:28.654627Z",
          "iopub.status.busy": "2022-11-21T11:06:28.654315Z",
          "iopub.status.idle": "2022-11-21T11:06:28.690478Z",
          "shell.execute_reply": "2022-11-21T11:06:28.689098Z",
          "shell.execute_reply.started": "2022-11-21T11:06:28.654599Z"
        },
        "id": "Pga21uvOTH1i",
        "outputId": "63245006-21dd-44d4-e5db-731e5115ad2d",
        "trusted": true
      },
      "outputs": [
        {
          "name": "stdout",
          "output_type": "stream",
          "text": [
            "% of 0's : 93.813% \n",
            "% of 1's : 6.187%\n"
          ]
        }
      ],
      "source": [
        "print(f\"% of 0's : {main_df['target'].value_counts()[0]/len(main_df) * 100}% \\n% of 1's : {main_df['target'].value_counts()[1]/len(main_df) * 100}%\")"
      ]
    },
    {
      "cell_type": "code",
      "execution_count": 273,
      "metadata": {
        "colab": {
          "base_uri": "https://localhost:8080/",
          "height": 351
        },
        "execution": {
          "iopub.execute_input": "2022-11-21T11:06:28.692728Z",
          "iopub.status.busy": "2022-11-21T11:06:28.692282Z",
          "iopub.status.idle": "2022-11-21T11:06:29.006034Z",
          "shell.execute_reply": "2022-11-21T11:06:29.004913Z",
          "shell.execute_reply.started": "2022-11-21T11:06:28.692673Z"
        },
        "id": "NrB9mYSJ7MKc",
        "outputId": "ca499486-a9b9-4b6c-abdd-e9811de9e08a",
        "trusted": true
      },
      "outputs": [
        {
          "name": "stderr",
          "output_type": "stream",
          "text": [
            "c:\\Python310\\lib\\site-packages\\seaborn\\_decorators.py:36: FutureWarning: Pass the following variable as a keyword arg: x. From version 0.12, the only valid positional argument will be `data`, and passing other arguments without an explicit keyword will result in an error or misinterpretation.\n",
            "  warnings.warn(\n"
          ]
        },
        {
          "data": {
            "text/plain": [
              "<AxesSubplot:xlabel='target', ylabel='count'>"
            ]
          },
          "execution_count": 273,
          "metadata": {},
          "output_type": "execute_result"
        },
        {
          "data": {
            "image/png": "[encoded data removed]",
            "text/plain": [
              "<Figure size 432x288 with 1 Axes>"
            ]
          },
          "metadata": {
            "needs_background": "light"
          },
          "output_type": "display_data"
        }
      ],
      "source": [
        "sns.countplot(main_df[\"target\"])"
      ]
    },
    {
      "cell_type": "code",
      "execution_count": 274,
      "metadata": {
        "colab": {
          "base_uri": "https://localhost:8080/",
          "height": 206
        },
        "execution": {
          "iopub.execute_input": "2022-11-21T11:06:29.007474Z",
          "iopub.status.busy": "2022-11-21T11:06:29.007163Z",
          "iopub.status.idle": "2022-11-21T11:06:29.021756Z",
          "shell.execute_reply": "2022-11-21T11:06:29.020348Z",
          "shell.execute_reply.started": "2022-11-21T11:06:29.007445Z"
        },
        "id": "onh-2PlaJ3UT",
        "outputId": "e325725c-f48d-4f64-dba3-540699b31ce9",
        "trusted": true
      },
      "outputs": [
        {
          "data": {
            "text/html": [
              "<div>\n",
              "<style scoped>\n",
              "    .dataframe tbody tr th:only-of-type {\n",
              "        vertical-align: middle;\n",
              "    }\n",
              "\n",
              "    .dataframe tbody tr th {\n",
              "        vertical-align: top;\n",
              "    }\n",
              "\n",
              "    .dataframe thead th {\n",
              "        text-align: right;\n",
              "    }\n",
              "</style>\n",
              "<table border=\"1\" class=\"dataframe\">\n",
              "  <thead>\n",
              "    <tr style=\"text-align: right;\">\n",
              "      <th></th>\n",
              "      <th>qid</th>\n",
              "      <th>question_text</th>\n",
              "      <th>target</th>\n",
              "    </tr>\n",
              "  </thead>\n",
              "  <tbody>\n",
              "    <tr>\n",
              "      <th>0</th>\n",
              "      <td>dda0b0efc8ba86e81ec4</td>\n",
              "      <td>What are interesting facts about Microsoft his...</td>\n",
              "      <td>0</td>\n",
              "    </tr>\n",
              "    <tr>\n",
              "      <th>1</th>\n",
              "      <td>dc708b74a108d0fc0ad9</td>\n",
              "      <td>What are those things which are not gonna happ...</td>\n",
              "      <td>0</td>\n",
              "    </tr>\n",
              "    <tr>\n",
              "      <th>2</th>\n",
              "      <td>06a27ec5d82dacd8bfe0</td>\n",
              "      <td>What should I know to avoid being \"upsold\" whe...</td>\n",
              "      <td>0</td>\n",
              "    </tr>\n",
              "    <tr>\n",
              "      <th>3</th>\n",
              "      <td>00cbb6b17e3ceb7c5358</td>\n",
              "      <td>How I add any account with payment bank?</td>\n",
              "      <td>0</td>\n",
              "    </tr>\n",
              "    <tr>\n",
              "      <th>4</th>\n",
              "      <td>7c304888973a701585a0</td>\n",
              "      <td>Which Multi level marketing products are actua...</td>\n",
              "      <td>0</td>\n",
              "    </tr>\n",
              "  </tbody>\n",
              "</table>\n",
              "</div>"
            ],
            "text/plain": [
              "                    qid                                      question_text  \\\n",
              "0  dda0b0efc8ba86e81ec4  What are interesting facts about Microsoft his...   \n",
              "1  dc708b74a108d0fc0ad9  What are those things which are not gonna happ...   \n",
              "2  06a27ec5d82dacd8bfe0  What should I know to avoid being \"upsold\" whe...   \n",
              "3  00cbb6b17e3ceb7c5358           How I add any account with payment bank?   \n",
              "4  7c304888973a701585a0  Which Multi level marketing products are actua...   \n",
              "\n",
              "   target  \n",
              "0       0  \n",
              "1       0  \n",
              "2       0  \n",
              "3       0  \n",
              "4       0  "
            ]
          },
          "execution_count": 274,
          "metadata": {},
          "output_type": "execute_result"
        }
      ],
      "source": [
        "main_df.head()"
      ]
    },
    {
      "cell_type": "markdown",
      "metadata": {
        "id": "ybbGOoEw7CYd"
      },
      "source": [
        "##Visualize and Interpret Data"
      ]
    },
    {
      "cell_type": "code",
      "execution_count": 275,
      "metadata": {
        "colab": {
          "base_uri": "https://localhost:8080/"
        },
        "execution": {
          "iopub.execute_input": "2022-11-21T11:06:29.023863Z",
          "iopub.status.busy": "2022-11-21T11:06:29.023378Z",
          "iopub.status.idle": "2022-11-21T11:06:29.276158Z",
          "shell.execute_reply": "2022-11-21T11:06:29.274964Z",
          "shell.execute_reply.started": "2022-11-21T11:06:29.023818Z"
        },
        "id": "R1VOpzeXTH1j",
        "outputId": "a3e6455a-499f-44dd-bc19-0445c060ba24",
        "trusted": true
      },
      "outputs": [
        {
          "data": {
            "text/plain": [
              "qid              0\n",
              "question_text    0\n",
              "target           0\n",
              "dtype: int64"
            ]
          },
          "execution_count": 275,
          "metadata": {},
          "output_type": "execute_result"
        }
      ],
      "source": [
        "# checking for missing values in training data\n",
        "main_df.isna().sum()\n",
        "\n",
        "(main_df == \"?\").sum()"
      ]
    },
    {
      "cell_type": "code",
      "execution_count": 276,
      "metadata": {
        "colab": {
          "base_uri": "https://localhost:8080/"
        },
        "execution": {
          "iopub.execute_input": "2022-11-21T11:06:29.277597Z",
          "iopub.status.busy": "2022-11-21T11:06:29.277284Z",
          "iopub.status.idle": "2022-11-21T11:06:29.362002Z",
          "shell.execute_reply": "2022-11-21T11:06:29.360864Z",
          "shell.execute_reply.started": "2022-11-21T11:06:29.277569Z"
        },
        "id": "hxh0dZtbRYxb",
        "outputId": "e0adacd7-8ad3-4bc3-a46e-f258bd7a80f3",
        "trusted": true
      },
      "outputs": [
        {
          "data": {
            "text/plain": [
              "qid              0\n",
              "question_text    0\n",
              "dtype: int64"
            ]
          },
          "execution_count": 276,
          "metadata": {},
          "output_type": "execute_result"
        }
      ],
      "source": [
        "# checking for missing values in testing data\n",
        "\n",
        "test_df.isna().sum()\n",
        "\n",
        "(test_df == \"?\").sum()"
      ]
    },
    {
      "cell_type": "code",
      "execution_count": 277,
      "metadata": {
        "colab": {
          "base_uri": "https://localhost:8080/"
        },
        "execution": {
          "iopub.execute_input": "2022-11-21T11:06:29.365922Z",
          "iopub.status.busy": "2022-11-21T11:06:29.365583Z",
          "iopub.status.idle": "2022-11-21T11:06:29.374072Z",
          "shell.execute_reply": "2022-11-21T11:06:29.372620Z",
          "shell.execute_reply.started": "2022-11-21T11:06:29.365893Z"
        },
        "id": "DX1W-XPFTH1j",
        "outputId": "e469a2db-f622-448d-9a02-9b98752f7481",
        "trusted": true
      },
      "outputs": [
        {
          "data": {
            "text/plain": [
              "1000000"
            ]
          },
          "execution_count": 277,
          "metadata": {},
          "output_type": "execute_result"
        }
      ],
      "source": [
        "len(main_df)      #no of rows in training data"
      ]
    },
    {
      "cell_type": "code",
      "execution_count": 278,
      "metadata": {
        "colab": {
          "base_uri": "https://localhost:8080/"
        },
        "execution": {
          "iopub.execute_input": "2022-11-21T11:06:29.376928Z",
          "iopub.status.busy": "2022-11-21T11:06:29.376039Z",
          "iopub.status.idle": "2022-11-21T11:06:29.390781Z",
          "shell.execute_reply": "2022-11-21T11:06:29.389660Z",
          "shell.execute_reply.started": "2022-11-21T11:06:29.376864Z"
        },
        "id": "aPUxyroLTH1k",
        "outputId": "03652bb8-f983-400e-a523-4f1916ff89b4",
        "trusted": true
      },
      "outputs": [
        {
          "data": {
            "text/plain": [
              "3"
            ]
          },
          "execution_count": 278,
          "metadata": {},
          "output_type": "execute_result"
        }
      ],
      "source": [
        "main_df.shape[1]         #no of columns in training data"
      ]
    },
    {
      "cell_type": "code",
      "execution_count": 279,
      "metadata": {
        "colab": {
          "base_uri": "https://localhost:8080/"
        },
        "execution": {
          "iopub.execute_input": "2022-11-21T11:06:29.392974Z",
          "iopub.status.busy": "2022-11-21T11:06:29.392319Z",
          "iopub.status.idle": "2022-11-21T11:06:29.402289Z",
          "shell.execute_reply": "2022-11-21T11:06:29.401033Z",
          "shell.execute_reply.started": "2022-11-21T11:06:29.392940Z"
        },
        "id": "1zCipBP1Reko",
        "outputId": "2673a0ca-8601-4eb7-acd4-cfc17d13ad58",
        "trusted": true
      },
      "outputs": [
        {
          "data": {
            "text/plain": [
              "306122"
            ]
          },
          "execution_count": 279,
          "metadata": {},
          "output_type": "execute_result"
        }
      ],
      "source": [
        "len(test_df)      #no of rows in testing data"
      ]
    },
    {
      "cell_type": "code",
      "execution_count": 280,
      "metadata": {
        "colab": {
          "base_uri": "https://localhost:8080/"
        },
        "execution": {
          "iopub.execute_input": "2022-11-21T11:06:29.403821Z",
          "iopub.status.busy": "2022-11-21T11:06:29.403426Z",
          "iopub.status.idle": "2022-11-21T11:06:29.414310Z",
          "shell.execute_reply": "2022-11-21T11:06:29.413054Z",
          "shell.execute_reply.started": "2022-11-21T11:06:29.403793Z"
        },
        "id": "69HW21RhTGDB",
        "outputId": "bdced04a-611a-4f03-8958-b1804ff6990d",
        "trusted": true
      },
      "outputs": [
        {
          "data": {
            "text/plain": [
              "2"
            ]
          },
          "execution_count": 280,
          "metadata": {},
          "output_type": "execute_result"
        }
      ],
      "source": [
        "test_df.shape[1]        #no of columns in testing data"
      ]
    },
    {
      "cell_type": "code",
      "execution_count": 281,
      "metadata": {
        "colab": {
          "base_uri": "https://localhost:8080/"
        },
        "execution": {
          "iopub.execute_input": "2022-11-21T11:06:29.415930Z",
          "iopub.status.busy": "2022-11-21T11:06:29.415578Z",
          "iopub.status.idle": "2022-11-21T11:06:30.188891Z",
          "shell.execute_reply": "2022-11-21T11:06:30.187932Z",
          "shell.execute_reply.started": "2022-11-21T11:06:29.415895Z"
        },
        "id": "Lz1caDkNTH1k",
        "outputId": "c488b1b9-389c-45bf-a974-f23fbb73c021",
        "trusted": true
      },
      "outputs": [
        {
          "data": {
            "text/plain": [
              "qid              1000000\n",
              "question_text    1000000\n",
              "target                 2\n",
              "dtype: int64"
            ]
          },
          "execution_count": 281,
          "metadata": {},
          "output_type": "execute_result"
        }
      ],
      "source": [
        "main_df.nunique()"
      ]
    },
    {
      "cell_type": "code",
      "execution_count": 282,
      "metadata": {
        "colab": {
          "base_uri": "https://localhost:8080/"
        },
        "execution": {
          "iopub.execute_input": "2022-11-21T11:06:30.190550Z",
          "iopub.status.busy": "2022-11-21T11:06:30.190142Z",
          "iopub.status.idle": "2022-11-21T11:06:30.995498Z",
          "shell.execute_reply": "2022-11-21T11:06:30.994434Z",
          "shell.execute_reply.started": "2022-11-21T11:06:30.190521Z"
        },
        "id": "2Cj0ERONTH1k",
        "outputId": "5309ac39-be43-46f2-9376-3e5dfc7b4c5b",
        "trusted": true
      },
      "outputs": [
        {
          "data": {
            "text/plain": [
              "0"
            ]
          },
          "execution_count": 282,
          "metadata": {},
          "output_type": "execute_result"
        }
      ],
      "source": [
        "main_df.duplicated().sum()   #checking for duplicate rows in training data\n"
      ]
    },
    {
      "cell_type": "code",
      "execution_count": 283,
      "metadata": {
        "colab": {
          "base_uri": "https://localhost:8080/"
        },
        "execution": {
          "iopub.execute_input": "2022-11-21T11:06:30.997822Z",
          "iopub.status.busy": "2022-11-21T11:06:30.996787Z",
          "iopub.status.idle": "2022-11-21T11:06:31.212540Z",
          "shell.execute_reply": "2022-11-21T11:06:31.211356Z",
          "shell.execute_reply.started": "2022-11-21T11:06:30.997786Z"
        },
        "id": "wdgbF7dCRjLu",
        "outputId": "de28ae70-301d-4b92-9638-416eab5ccf4f",
        "trusted": true
      },
      "outputs": [
        {
          "data": {
            "text/plain": [
              "0"
            ]
          },
          "execution_count": 283,
          "metadata": {},
          "output_type": "execute_result"
        }
      ],
      "source": [
        "test_df.duplicated().sum()   #checking for duplicate rows in testing data\n"
      ]
    },
    {
      "cell_type": "markdown",
      "metadata": {
        "id": "KCk2ozcgTH1l"
      },
      "source": [
        "knowing the length of each message and showing them as a column"
      ]
    },
    {
      "cell_type": "code",
      "execution_count": 284,
      "metadata": {
        "execution": {
          "iopub.execute_input": "2022-11-21T11:06:31.214531Z",
          "iopub.status.busy": "2022-11-21T11:06:31.214185Z",
          "iopub.status.idle": "2022-11-21T11:06:31.514245Z",
          "shell.execute_reply": "2022-11-21T11:06:31.513093Z",
          "shell.execute_reply.started": "2022-11-21T11:06:31.214500Z"
        },
        "id": "I-ZKs09XTH1m",
        "trusted": true
      },
      "outputs": [],
      "source": [
        "# main_df['length'] = main_df['question_text'].apply(len)"
      ]
    },
    {
      "cell_type": "code",
      "execution_count": 285,
      "metadata": {
        "execution": {
          "iopub.execute_input": "2022-11-21T11:06:31.515974Z",
          "iopub.status.busy": "2022-11-21T11:06:31.515499Z",
          "iopub.status.idle": "2022-11-21T11:06:31.561546Z",
          "shell.execute_reply": "2022-11-21T11:06:31.560576Z",
          "shell.execute_reply.started": "2022-11-21T11:06:31.515942Z"
        },
        "id": "zxWU8ikVTH1m",
        "trusted": true
      },
      "outputs": [],
      "source": [
        "# main_df['length'].describe()"
      ]
    },
    {
      "cell_type": "markdown",
      "metadata": {
        "id": "ACqKFZMJEH8a"
      },
      "source": []
    },
    {
      "cell_type": "markdown",
      "metadata": {
        "id": "UD7Rk-AkTH1m"
      },
      "source": [
        " In natural language processing, useless words (data), are referred to as stop words. \n",
        "  A stop word is a commonly used word (such as “the”, “a”, “an”, “in”) that a search engine has been programmed to ignore.\n",
        "\n"
      ]
    },
    {
      "cell_type": "code",
      "execution_count": null,
      "metadata": {
        "id": "prA2q2YU2_bm"
      },
      "outputs": [],
      "source": []
    },
    {
      "cell_type": "code",
      "execution_count": 286,
      "metadata": {
        "execution": {
          "iopub.execute_input": "2022-11-21T11:06:31.563020Z",
          "iopub.status.busy": "2022-11-21T11:06:31.562714Z",
          "iopub.status.idle": "2022-11-21T11:06:31.573734Z",
          "shell.execute_reply": "2022-11-21T11:06:31.572937Z",
          "shell.execute_reply.started": "2022-11-21T11:06:31.562992Z"
        },
        "id": "6ELHvXnuTH1u",
        "trusted": true
      },
      "outputs": [],
      "source": [
        "# main_df.head()"
      ]
    },
    {
      "cell_type": "code",
      "execution_count": 287,
      "metadata": {
        "execution": {
          "iopub.execute_input": "2022-11-21T11:06:31.575643Z",
          "iopub.status.busy": "2022-11-21T11:06:31.575086Z",
          "iopub.status.idle": "2022-11-21T11:06:35.197672Z",
          "shell.execute_reply": "2022-11-21T11:06:35.196597Z",
          "shell.execute_reply.started": "2022-11-21T11:06:31.575611Z"
        },
        "id": "Vv3F3gx83A1Q",
        "trusted": true
      },
      "outputs": [],
      "source": [
        "# sns.displot(main_df['length'])"
      ]
    },
    {
      "cell_type": "code",
      "execution_count": 288,
      "metadata": {
        "colab": {
          "base_uri": "https://localhost:8080/",
          "height": 316
        },
        "execution": {
          "iopub.execute_input": "2022-11-21T11:06:35.199341Z",
          "iopub.status.busy": "2022-11-21T11:06:35.198998Z",
          "iopub.status.idle": "2022-11-21T11:06:35.619573Z",
          "shell.execute_reply": "2022-11-21T11:06:35.618510Z",
          "shell.execute_reply.started": "2022-11-21T11:06:35.199310Z"
        },
        "id": "pce9m9di2EwM",
        "outputId": "b8ef7bf9-e388-40f3-cb83-70f9983da545",
        "trusted": true
      },
      "outputs": [
        {
          "data": {
            "text/plain": [
              "array([[<AxesSubplot:title={'center':'target'}>]], dtype=object)"
            ]
          },
          "execution_count": 288,
          "metadata": {},
          "output_type": "execute_result"
        },
        {
          "data": {
            "image/png": "[encoded data removed]",
            "text/plain": [
              "<Figure size 432x288 with 1 Axes>"
            ]
          },
          "metadata": {
            "needs_background": "light"
          },
          "output_type": "display_data"
        }
      ],
      "source": [
        "main_df.hist()"
      ]
    },
    {
      "cell_type": "code",
      "execution_count": 289,
      "metadata": {
        "execution": {
          "iopub.execute_input": "2022-11-21T11:06:35.621269Z",
          "iopub.status.busy": "2022-11-21T11:06:35.620829Z",
          "iopub.status.idle": "2022-11-21T11:06:36.077770Z",
          "shell.execute_reply": "2022-11-21T11:06:36.076466Z",
          "shell.execute_reply.started": "2022-11-21T11:06:35.621240Z"
        },
        "id": "q9yBdxAd3exO",
        "trusted": true
      },
      "outputs": [],
      "source": [
        "# main_df.hist(column='length',by='target')"
      ]
    },
    {
      "cell_type": "markdown",
      "metadata": {
        "id": "hoTp9SHJ7bqJ"
      },
      "source": [
        "Data Preparation"
      ]
    },
    {
      "cell_type": "markdown",
      "metadata": {
        "id": "B-nuZEZo7gDq"
      },
      "source": [
        "## Import Modules"
      ]
    },
    {
      "cell_type": "code",
      "execution_count": 290,
      "metadata": {
        "colab": {
          "base_uri": "https://localhost:8080/"
        },
        "execution": {
          "iopub.execute_input": "2022-11-21T11:06:36.080406Z",
          "iopub.status.busy": "2022-11-21T11:06:36.079439Z",
          "iopub.status.idle": "2022-11-21T11:06:36.214417Z",
          "shell.execute_reply": "2022-11-21T11:06:36.213188Z",
          "shell.execute_reply.started": "2022-11-21T11:06:36.080355Z"
        },
        "id": "G_9WStpoTH1u",
        "outputId": "11e8e195-4be3-4afe-804b-eec0283f7e56",
        "trusted": true
      },
      "outputs": [
        {
          "name": "stderr",
          "output_type": "stream",
          "text": [
            "[nltk_data] Error loading stopwords: <urlopen error [WinError 10060] A\n",
            "[nltk_data]     connection attempt failed because the connected party\n",
            "[nltk_data]     did not properly respond after a period of time, or\n",
            "[nltk_data]     established connection failed because connected host\n",
            "[nltk_data]     has failed to respond>\n"
          ]
        },
        {
          "data": {
            "text/plain": [
              "False"
            ]
          },
          "execution_count": 290,
          "metadata": {},
          "output_type": "execute_result"
        }
      ],
      "source": [
        "import re\n",
        "import nltk\n",
        "nltk.download('stopwords')"
      ]
    },
    {
      "cell_type": "code",
      "execution_count": 291,
      "metadata": {
        "execution": {
          "iopub.execute_input": "2022-11-21T11:06:36.216729Z",
          "iopub.status.busy": "2022-11-21T11:06:36.216268Z",
          "iopub.status.idle": "2022-11-21T11:06:36.223418Z",
          "shell.execute_reply": "2022-11-21T11:06:36.221978Z",
          "shell.execute_reply.started": "2022-11-21T11:06:36.216684Z"
        },
        "id": "OXKZAan0TH1w",
        "trusted": true
      },
      "outputs": [],
      "source": [
        "import re\n",
        "import nltk\n",
        "from sklearn.feature_extraction.text import CountVectorizer        \n",
        "from nltk.stem.porter import PorterStemmer  \n"
      ]
    },
    {
      "cell_type": "code",
      "execution_count": 292,
      "metadata": {
        "execution": {
          "iopub.execute_input": "2022-11-21T11:06:36.225330Z",
          "iopub.status.busy": "2022-11-21T11:06:36.224826Z",
          "iopub.status.idle": "2022-11-21T11:06:36.234735Z",
          "shell.execute_reply": "2022-11-21T11:06:36.233678Z",
          "shell.execute_reply.started": "2022-11-21T11:06:36.225293Z"
        },
        "id": "CxkKc4AzTH1x",
        "trusted": true
      },
      "outputs": [],
      "source": [
        "# nltk.download('punkt')"
      ]
    },
    {
      "cell_type": "code",
      "execution_count": 293,
      "metadata": {
        "execution": {
          "iopub.execute_input": "2022-11-21T11:06:36.237020Z",
          "iopub.status.busy": "2022-11-21T11:06:36.236654Z",
          "iopub.status.idle": "2022-11-21T11:06:36.248558Z",
          "shell.execute_reply": "2022-11-21T11:06:36.247574Z",
          "shell.execute_reply.started": "2022-11-21T11:06:36.236988Z"
        },
        "id": "u4KOH65zTH1y",
        "trusted": true
      },
      "outputs": [],
      "source": [
        "# from sklearn.feature_extraction.text import CountVectorizer        \n",
        "from nltk.stem import PorterStemmer, LancasterStemmer"
      ]
    },
    {
      "cell_type": "code",
      "execution_count": 294,
      "metadata": {
        "execution": {
          "iopub.execute_input": "2022-11-21T11:06:36.250544Z",
          "iopub.status.busy": "2022-11-21T11:06:36.250181Z",
          "iopub.status.idle": "2022-11-21T11:06:36.262431Z",
          "shell.execute_reply": "2022-11-21T11:06:36.261495Z",
          "shell.execute_reply.started": "2022-11-21T11:06:36.250511Z"
        },
        "id": "GCFk2aOlAPr1",
        "trusted": true
      },
      "outputs": [],
      "source": [
        "import string\n",
        "stopwords = nltk.corpus.stopwords.words('english')\n"
      ]
    },
    {
      "cell_type": "code",
      "execution_count": 295,
      "metadata": {
        "execution": {
          "iopub.execute_input": "2022-11-21T11:06:36.272553Z",
          "iopub.status.busy": "2022-11-21T11:06:36.271903Z",
          "iopub.status.idle": "2022-11-21T11:06:47.228789Z",
          "shell.execute_reply": "2022-11-21T11:06:47.227310Z",
          "shell.execute_reply.started": "2022-11-21T11:06:36.272516Z"
        },
        "id": "Qfj08dCMIbUC",
        "trusted": true
      },
      "outputs": [],
      "source": [
        "import re\n",
        "from bs4 import BeautifulSoup\n",
        "# Contractions\n",
        "\n",
        "import contractions\n",
        "import string\n",
        "\n",
        "# NLTK\n",
        "import nltk\n",
        "nltk.download('punkt')\n",
        "nltk.download('stopwords')\n",
        "nltk.download('wordnet')\n",
        "\n",
        "# Tokenization, punctuations and stopwords\n",
        "from nltk.tokenize import word_tokenize\n",
        "from nltk.corpus import stopwords, wordnet\n",
        "\n",
        "# CountVectorizer\n",
        "from sklearn.feature_extraction.text import CountVectorizer\n",
        "\n",
        "from nltk.probability import FreqDist\n",
        "from wordcloud import WordCloud\n",
        "\n",
        "# Lemmatization\n",
        "from nltk.stem import WordNetLemmatizer\n",
        "\n"
      ]
    },
    {
      "cell_type": "code",
      "execution_count": 296,
      "metadata": {
        "execution": {
          "iopub.execute_input": "2022-11-21T11:06:47.230694Z",
          "iopub.status.busy": "2022-11-21T11:06:47.230360Z",
          "iopub.status.idle": "2022-11-21T11:06:57.926763Z",
          "shell.execute_reply": "2022-11-21T11:06:57.924653Z",
          "shell.execute_reply.started": "2022-11-21T11:06:47.230662Z"
        },
        "id": "v3VSYyNejaCb",
        "trusted": true
      },
      "outputs": [],
      "source": [
        "# !pip install symspellpy"
      ]
    },
    {
      "cell_type": "markdown",
      "metadata": {
        "id": "vgG4elVd8Exn"
      },
      "source": [
        "Removing  brackets, digits"
      ]
    },
    {
      "cell_type": "code",
      "execution_count": 297,
      "metadata": {
        "execution": {
          "iopub.execute_input": "2022-11-21T11:06:57.930317Z",
          "iopub.status.busy": "2022-11-21T11:06:57.929592Z",
          "iopub.status.idle": "2022-11-21T11:06:57.936604Z",
          "shell.execute_reply": "2022-11-21T11:06:57.935461Z",
          "shell.execute_reply.started": "2022-11-21T11:06:57.930265Z"
        },
        "id": "_kUw-uAAjZVp",
        "trusted": true
      },
      "outputs": [],
      "source": [
        "# def correct_spelling(text):\n",
        "#     s = ''\n",
        "#     misspelled = spell.unknown([w for w in str(text).split()])\n",
        "#     for word in misspelled:\n",
        "#         if word == None or spell.correction(word) == None:\n",
        "#             pass\n",
        "#         else:\n",
        "#             s += spell.correction(word)\n",
        "#     return s\n",
        "\n",
        "# train_df['text'] = train_df['text'].apply(lambda s: correct_spelling(s))\n",
        "# test_df['text'] = test_df['text'].apply(lambda s: correct_spelling(s)"
      ]
    },
    {
      "cell_type": "code",
      "execution_count": 298,
      "metadata": {
        "execution": {
          "iopub.execute_input": "2022-11-21T11:06:57.938598Z",
          "iopub.status.busy": "2022-11-21T11:06:57.938292Z",
          "iopub.status.idle": "2022-11-21T11:06:57.953077Z",
          "shell.execute_reply": "2022-11-21T11:06:57.952237Z",
          "shell.execute_reply.started": "2022-11-21T11:06:57.938570Z"
        },
        "id": "EGBlxaBG0T46",
        "trusted": true
      },
      "outputs": [],
      "source": [
        "# def remove_url(data_column):\n",
        "#   return data_column.apply(lambda sentence: re.sub(r'https://','', sentence))\n",
        "# def remove_html(data_column):\n",
        "#   return data_column.apply(lambda sentence: BeautifulSoup(sentence, 'html.parser').get_text())"
      ]
    },
    {
      "cell_type": "code",
      "execution_count": 299,
      "metadata": {
        "execution": {
          "iopub.execute_input": "2022-11-21T11:06:57.955681Z",
          "iopub.status.busy": "2022-11-21T11:06:57.954485Z",
          "iopub.status.idle": "2022-11-21T11:06:57.965251Z",
          "shell.execute_reply": "2022-11-21T11:06:57.964236Z",
          "shell.execute_reply.started": "2022-11-21T11:06:57.955645Z"
        },
        "id": "ecbREentGYyq",
        "trusted": true
      },
      "outputs": [],
      "source": [
        "\n",
        "# def remove_digits(column):\n",
        "#   return column.apply(lambda sentence: re.sub('[0-9]','', sentence))\n",
        "\n",
        "\n",
        "# def remove_brackets(column):\n",
        "#   temp = column.apply(lambda sentence: re.sub('\\(.*?\\)','', sentence))\n",
        "#   return temp.apply(lambda sentence: re.sub('\\[.*?\\]','', sentence))\n",
        "\n",
        "\n",
        "# def remove_underscore(column):\n",
        "#   return column.apply(lambda sentence: sentence.replace(\"_\",\"\"))"
      ]
    },
    {
      "cell_type": "code",
      "execution_count": 300,
      "metadata": {
        "execution": {
          "iopub.execute_input": "2022-11-21T11:06:57.967353Z",
          "iopub.status.busy": "2022-11-21T11:06:57.966810Z",
          "iopub.status.idle": "2022-11-21T11:06:57.977689Z",
          "shell.execute_reply": "2022-11-21T11:06:57.976541Z",
          "shell.execute_reply.started": "2022-11-21T11:06:57.967322Z"
        },
        "id": "SzvRswC4LNyC",
        "trusted": true
      },
      "outputs": [],
      "source": [
        "# def expand_contractions(column):\n",
        "#   contractions_expanded = column.apply(lambda sentence: [contractions.fix(word) for word in sentence.split()])\n",
        "#   return [' '.join(map(str, word)) for word in contractions_expanded]"
      ]
    },
    {
      "cell_type": "code",
      "execution_count": null,
      "metadata": {
        "id": "X0-YDpeq4pe_"
      },
      "outputs": [],
      "source": []
    },
    {
      "cell_type": "code",
      "execution_count": 301,
      "metadata": {
        "execution": {
          "iopub.execute_input": "2022-11-21T11:06:57.979417Z",
          "iopub.status.busy": "2022-11-21T11:06:57.979099Z",
          "iopub.status.idle": "2022-11-21T11:07:08.695633Z",
          "shell.execute_reply": "2022-11-21T11:07:08.694466Z",
          "shell.execute_reply.started": "2022-11-21T11:06:57.979387Z"
        },
        "id": "n20TggFBOJeB",
        "trusted": true
      },
      "outputs": [],
      "source": [
        "# ! pip install symspellpy"
      ]
    },
    {
      "cell_type": "code",
      "execution_count": null,
      "metadata": {
        "execution": {
          "iopub.execute_input": "2022-11-21T11:10:42.278747Z",
          "iopub.status.busy": "2022-11-21T11:10:42.277658Z",
          "iopub.status.idle": "2022-11-21T11:10:42.316247Z",
          "shell.execute_reply": "2022-11-21T11:10:42.314720Z",
          "shell.execute_reply.started": "2022-11-21T11:10:42.278692Z"
        },
        "id": "iDM9KOy_PBCb",
        "trusted": true
      },
      "outputs": [],
      "source": []
    },
    {
      "cell_type": "markdown",
      "metadata": {
        "id": "gVGtcXe78JzA"
      },
      "source": [
        "Tokenize"
      ]
    },
    {
      "cell_type": "code",
      "execution_count": 302,
      "metadata": {
        "execution": {
          "iopub.status.busy": "2022-11-21T11:07:08.924371Z",
          "iopub.status.idle": "2022-11-21T11:07:08.924773Z",
          "shell.execute_reply": "2022-11-21T11:07:08.924601Z",
          "shell.execute_reply.started": "2022-11-21T11:07:08.924582Z"
        },
        "id": "kpaughq2Gix2",
        "trusted": true
      },
      "outputs": [],
      "source": [
        "# def tokenize(column):\n",
        "#   return column.apply(word_tokenize)"
      ]
    },
    {
      "cell_type": "markdown",
      "metadata": {
        "id": "vU52mzVa8NyA"
      },
      "source": [
        "Lower case"
      ]
    },
    {
      "cell_type": "code",
      "execution_count": 303,
      "metadata": {
        "execution": {
          "iopub.status.busy": "2022-11-21T11:07:08.926179Z",
          "iopub.status.idle": "2022-11-21T11:07:08.926705Z",
          "shell.execute_reply": "2022-11-21T11:07:08.926480Z",
          "shell.execute_reply.started": "2022-11-21T11:07:08.926452Z"
        },
        "id": "xHJ0tFlzGtUR",
        "trusted": true
      },
      "outputs": [],
      "source": [
        "# def lower_case(column):\n",
        "#   return column.apply(lambda tokens: [word.lower() for word in tokens])"
      ]
    },
    {
      "cell_type": "markdown",
      "metadata": {
        "id": "Dl1IKFY_8SBe"
      },
      "source": [
        "Removing punctuations"
      ]
    },
    {
      "cell_type": "code",
      "execution_count": 304,
      "metadata": {
        "execution": {
          "iopub.status.busy": "2022-11-21T11:07:08.928118Z",
          "iopub.status.idle": "2022-11-21T11:07:08.928634Z",
          "shell.execute_reply": "2022-11-21T11:07:08.928416Z",
          "shell.execute_reply.started": "2022-11-21T11:07:08.928390Z"
        },
        "id": "5aJoh4e7GwKa",
        "trusted": true
      },
      "outputs": [],
      "source": [
        "# def remove_punctuation(column):\n",
        "#   return column.apply(lambda tokens: [re.sub(r'[^\\w\\s]', '', word) for word in tokens])\n"
      ]
    },
    {
      "cell_type": "markdown",
      "metadata": {
        "id": "O8bpP28X8WGV"
      },
      "source": [
        "removing Stopwords"
      ]
    },
    {
      "cell_type": "code",
      "execution_count": 305,
      "metadata": {
        "execution": {
          "iopub.status.busy": "2022-11-21T11:07:08.930615Z",
          "iopub.status.idle": "2022-11-21T11:07:08.931086Z",
          "shell.execute_reply": "2022-11-21T11:07:08.930871Z",
          "shell.execute_reply.started": "2022-11-21T11:07:08.930851Z"
        },
        "id": "vvBSrZ1rG0P5",
        "trusted": true
      },
      "outputs": [],
      "source": [
        "# # In natural language processing, useless words (data), are referred to as stop words. A stop word is a commonly used word (such as “the”, “a”, “an”, “in”) that a search engine has been programmed to ignore.\n",
        "\n",
        "\n",
        "# def remove_stopwords(column):\n",
        "#   stop_words = set(stopwords.words('english'))\n",
        "#   return column.apply(lambda tokens: [word for word in tokens if word not in stop_words and word])"
      ]
    },
    {
      "cell_type": "markdown",
      "metadata": {
        "id": "5I-9ugN28kSj"
      },
      "source": [
        "Lemmatization"
      ]
    },
    {
      "cell_type": "code",
      "execution_count": 306,
      "metadata": {
        "execution": {
          "iopub.status.busy": "2022-11-21T11:07:08.932201Z",
          "iopub.status.idle": "2022-11-21T11:07:08.932591Z",
          "shell.execute_reply": "2022-11-21T11:07:08.932413Z",
          "shell.execute_reply.started": "2022-11-21T11:07:08.932395Z"
        },
        "id": "SkiYsUPSHpg9",
        "trusted": true
      },
      "outputs": [],
      "source": [
        "# def pos_tags(column):\n",
        "#   return column.apply(nltk.tag.pos_tag)"
      ]
    },
    {
      "cell_type": "code",
      "execution_count": 307,
      "metadata": {
        "execution": {
          "iopub.status.busy": "2022-11-21T11:07:08.933986Z",
          "iopub.status.idle": "2022-11-21T11:07:08.934361Z",
          "shell.execute_reply": "2022-11-21T11:07:08.934190Z",
          "shell.execute_reply.started": "2022-11-21T11:07:08.934173Z"
        },
        "id": "yr9YoscCHqM9",
        "trusted": true
      },
      "outputs": [],
      "source": [
        "# def get_wordnet_pos(tag):\n",
        "#     if tag.startswith('J'):\n",
        "#         return wordnet.ADJ\n",
        "#     elif tag.startswith('V'):\n",
        "#         return wordnet.VERB\n",
        "#     elif tag.startswith('N'):\n",
        "#         return wordnet.NOUN\n",
        "#     elif tag.startswith('R'):\n",
        "#         return wordnet.ADV\n",
        "#     else:\n",
        "#         return wordnet.NOUN"
      ]
    },
    {
      "cell_type": "code",
      "execution_count": 308,
      "metadata": {
        "execution": {
          "iopub.status.busy": "2022-11-21T11:07:08.936736Z",
          "iopub.status.idle": "2022-11-21T11:07:08.937123Z",
          "shell.execute_reply": "2022-11-21T11:07:08.936950Z",
          "shell.execute_reply.started": "2022-11-21T11:07:08.936932Z"
        },
        "id": "7uyDlyXdHs0x",
        "trusted": true
      },
      "outputs": [],
      "source": [
        "# def to_wordnet(column):\n",
        "#   return column.apply(lambda words: [(word, get_wordnet_pos(pos_tag)) for (word, pos_tag) in words])\n",
        "# def word_lemmatizer(column):\n",
        "#   wnl = WordNetLemmatizer()\n",
        "#   return column.apply(lambda words: [wnl.lemmatize(word, tag) for word, tag in words])"
      ]
    },
    {
      "cell_type": "markdown",
      "metadata": {
        "id": "pws1xn9I8gMm"
      },
      "source": [
        "Function calls for preprocessing"
      ]
    },
    {
      "cell_type": "code",
      "execution_count": 309,
      "metadata": {
        "execution": {
          "iopub.status.busy": "2022-11-21T11:07:08.937813Z",
          "iopub.status.idle": "2022-11-21T11:07:08.938208Z",
          "shell.execute_reply": "2022-11-21T11:07:08.938041Z",
          "shell.execute_reply.started": "2022-11-21T11:07:08.938023Z"
        },
        "id": "lXeCi2dyHvbh",
        "trusted": true
      },
      "outputs": [],
      "source": [
        "# def pre_processing(data, main_df):\n",
        "#   data = remove_url(data)\n",
        "#   data = remove_html(data)\n",
        "#   data = remove_brackets(data)\n",
        "#   data = remove_digits(data)\n",
        "#   data = remove_underscore(data)\n",
        "\n",
        "#   main_df['sentences'] = expand_contractions(data)\n",
        "#   data = tokenize(main_df['sentences'])\n",
        "#   main_df.drop('sentences', axis='columns', inplace=True)\n",
        "\n",
        "#   data = lower_case(data)\n",
        "#   data = remove_punctuation(data)\n",
        "#   data = remove_stopwords(data)\n",
        "\n",
        "#   # data = correct_spelling(data)\n",
        "#   data = pos_tags(data)\n",
        "#   data = to_wordnet(data)\n",
        "#   return word_lemmatizer(data)"
      ]
    },
    {
      "cell_type": "code",
      "execution_count": 310,
      "metadata": {
        "colab": {
          "base_uri": "https://localhost:8080/"
        },
        "execution": {
          "iopub.status.busy": "2022-11-21T11:07:08.939068Z",
          "iopub.status.idle": "2022-11-21T11:07:08.939440Z",
          "shell.execute_reply": "2022-11-21T11:07:08.939261Z",
          "shell.execute_reply.started": "2022-11-21T11:07:08.939245Z"
        },
        "id": "b5VFvMQ2PHJs",
        "outputId": "7df9692d-a0a4-4797-8f1b-fc304012d382",
        "trusted": true
      },
      "outputs": [
        {
          "name": "stderr",
          "output_type": "stream",
          "text": [
            "[nltk_data] Error loading omw-1.4: <urlopen error [WinError 10060] A\n",
            "[nltk_data]     connection attempt failed because the connected party\n",
            "[nltk_data]     did not properly respond after a period of time, or\n",
            "[nltk_data]     established connection failed because connected host\n",
            "[nltk_data]     has failed to respond>\n"
          ]
        },
        {
          "data": {
            "text/plain": [
              "False"
            ]
          },
          "execution_count": 310,
          "metadata": {},
          "output_type": "execute_result"
        }
      ],
      "source": [
        "nltk.download('omw-1.4')"
      ]
    },
    {
      "cell_type": "code",
      "execution_count": 311,
      "metadata": {
        "colab": {
          "base_uri": "https://localhost:8080/"
        },
        "execution": {
          "iopub.status.busy": "2022-11-21T11:07:08.941270Z",
          "iopub.status.idle": "2022-11-21T11:07:08.941648Z",
          "shell.execute_reply": "2022-11-21T11:07:08.941474Z",
          "shell.execute_reply.started": "2022-11-21T11:07:08.941457Z"
        },
        "id": "NHBMJRJbFc-Y",
        "outputId": "592f78bd-583e-4400-9247-c0a06ad5a914",
        "trusted": true
      },
      "outputs": [
        {
          "name": "stderr",
          "output_type": "stream",
          "text": [
            "[nltk_data] Error loading averaged_perceptron_tagger: <urlopen error\n",
            "[nltk_data]     [WinError 10060] A connection attempt failed because\n",
            "[nltk_data]     the connected party did not properly respond after a\n",
            "[nltk_data]     period of time, or established connection failed\n",
            "[nltk_data]     because connected host has failed to respond>\n"
          ]
        },
        {
          "data": {
            "text/plain": [
              "False"
            ]
          },
          "execution_count": 311,
          "metadata": {},
          "output_type": "execute_result"
        }
      ],
      "source": [
        "import nltk\n",
        "nltk.download('averaged_perceptron_tagger')\n"
      ]
    },
    {
      "cell_type": "code",
      "execution_count": null,
      "metadata": {
        "id": "o1aKYzzNJ5h7"
      },
      "outputs": [],
      "source": []
    },
    {
      "cell_type": "code",
      "execution_count": 312,
      "metadata": {
        "colab": {
          "base_uri": "https://localhost:8080/"
        },
        "execution": {
          "iopub.status.busy": "2022-11-21T11:07:08.942766Z",
          "iopub.status.idle": "2022-11-21T11:07:08.943350Z",
          "shell.execute_reply": "2022-11-21T11:07:08.943173Z",
          "shell.execute_reply.started": "2022-11-21T11:07:08.943154Z"
        },
        "id": "UkiPwc7AJ71k",
        "outputId": "b0e9751a-41d1-4909-b580-17603e8b8d0f",
        "trusted": true
      },
      "outputs": [
        {
          "data": {
            "text/plain": [
              "26"
            ]
          },
          "execution_count": 312,
          "metadata": {},
          "output_type": "execute_result"
        }
      ],
      "source": [
        "gc.collect()"
      ]
    },
    {
      "cell_type": "code",
      "execution_count": 313,
      "metadata": {
        "execution": {
          "iopub.status.busy": "2022-11-21T11:07:08.944398Z",
          "iopub.status.idle": "2022-11-21T11:07:08.944756Z",
          "shell.execute_reply": "2022-11-21T11:07:08.944596Z",
          "shell.execute_reply.started": "2022-11-21T11:07:08.944579Z"
        },
        "id": "LLU-16F4JovO",
        "trusted": true
      },
      "outputs": [],
      "source": [
        "# main_df[\"processed_data\"] = pre_processing(main_df[\"question_text\"], main_df)\n",
        "# # main_df.head()"
      ]
    },
    {
      "cell_type": "code",
      "execution_count": 314,
      "metadata": {
        "colab": {
          "base_uri": "https://localhost:8080/"
        },
        "execution": {
          "iopub.status.busy": "2022-11-21T11:07:08.945813Z",
          "iopub.status.idle": "2022-11-21T11:07:08.946447Z",
          "shell.execute_reply": "2022-11-21T11:07:08.946269Z",
          "shell.execute_reply.started": "2022-11-21T11:07:08.946249Z"
        },
        "id": "tdw9f4NWKIH4",
        "outputId": "394c38ca-2ee6-4294-bebe-b530f96f22f7",
        "trusted": true
      },
      "outputs": [
        {
          "data": {
            "text/plain": [
              "0"
            ]
          },
          "execution_count": 314,
          "metadata": {},
          "output_type": "execute_result"
        }
      ],
      "source": [
        "gc.collect()"
      ]
    },
    {
      "cell_type": "code",
      "execution_count": 315,
      "metadata": {
        "execution": {
          "iopub.status.busy": "2022-11-21T11:07:08.947584Z",
          "iopub.status.idle": "2022-11-21T11:07:08.947984Z",
          "shell.execute_reply": "2022-11-21T11:07:08.947780Z",
          "shell.execute_reply.started": "2022-11-21T11:07:08.947763Z"
        },
        "id": "ZrQtY5V8kJ7q",
        "trusted": true
      },
      "outputs": [],
      "source": [
        "# test_df[\"processed_data\"] = pre_processing(test_df[\"question_text\"], test_df)\n",
        "# # test_df.head()"
      ]
    },
    {
      "cell_type": "code",
      "execution_count": 316,
      "metadata": {
        "execution": {
          "iopub.status.busy": "2022-11-21T11:07:08.949313Z",
          "iopub.status.idle": "2022-11-21T11:07:08.949893Z",
          "shell.execute_reply": "2022-11-21T11:07:08.949699Z",
          "shell.execute_reply.started": "2022-11-21T11:07:08.949679Z"
        },
        "id": "r9Np-HfcTXOS",
        "trusted": true
      },
      "outputs": [],
      "source": [
        "# main_df.shape, test_df.shape\n"
      ]
    },
    {
      "cell_type": "code",
      "execution_count": 317,
      "metadata": {
        "execution": {
          "iopub.status.busy": "2022-11-21T11:07:08.951038Z",
          "iopub.status.idle": "2022-11-21T11:07:08.951415Z",
          "shell.execute_reply": "2022-11-21T11:07:08.951235Z",
          "shell.execute_reply.started": "2022-11-21T11:07:08.951218Z"
        },
        "id": "TqZSiouRTuDi",
        "trusted": true
      },
      "outputs": [],
      "source": [
        "complete_df = pd.concat([main_df, test_df])"
      ]
    },
    {
      "cell_type": "code",
      "execution_count": 318,
      "metadata": {
        "colab": {
          "base_uri": "https://localhost:8080/"
        },
        "execution": {
          "iopub.status.busy": "2022-11-21T11:07:08.952275Z",
          "iopub.status.idle": "2022-11-21T11:07:08.952647Z",
          "shell.execute_reply": "2022-11-21T11:07:08.952481Z",
          "shell.execute_reply.started": "2022-11-21T11:07:08.952464Z"
        },
        "id": "CogDsQ6rT6G0",
        "outputId": "8b82e87e-4618-4f13-d49a-611780765a6c",
        "trusted": true
      },
      "outputs": [
        {
          "data": {
            "text/plain": [
              "(1306122, 3)"
            ]
          },
          "execution_count": 318,
          "metadata": {},
          "output_type": "execute_result"
        }
      ],
      "source": [
        "complete_df.shape\n"
      ]
    },
    {
      "cell_type": "markdown",
      "metadata": {
        "id": "4N2WNn0P9RQV"
      },
      "source": [
        "Word frequency analysis"
      ]
    },
    {
      "cell_type": "code",
      "execution_count": 319,
      "metadata": {
        "execution": {
          "iopub.status.busy": "2022-11-21T11:07:08.953512Z",
          "iopub.status.idle": "2022-11-21T11:07:08.953864Z",
          "shell.execute_reply": "2022-11-21T11:07:08.953701Z",
          "shell.execute_reply.started": "2022-11-21T11:07:08.953684Z"
        },
        "id": "VXQJuNIzZio0",
        "trusted": true
      },
      "outputs": [],
      "source": [
        "def common_words(data_column, top):\n",
        "  all_words = []\n",
        "  data_column.apply(lambda words: all_words.extend(words))\n",
        "  most_common_words = FreqDist(all_words).most_common(top)\n",
        "  x, y = zip(*most_common_words)\n",
        "  plt.figure(figsize=(8,6))\n",
        "  plt.bar(x,y)\n",
        "  plt.xticks(rotation=60)\n",
        "  plt.xlabel('Words')\n",
        "  plt.ylabel('Frequency of Words')\n",
        "  plt.show()"
      ]
    },
    {
      "cell_type": "code",
      "execution_count": 320,
      "metadata": {
        "execution": {
          "iopub.status.busy": "2022-11-21T11:07:08.955416Z",
          "iopub.status.idle": "2022-11-21T11:07:08.955776Z",
          "shell.execute_reply": "2022-11-21T11:07:08.955612Z",
          "shell.execute_reply.started": "2022-11-21T11:07:08.955595Z"
        },
        "id": "6_ul7DFWaAy_",
        "trusted": true
      },
      "outputs": [],
      "source": [
        "common_words(main_df['processed_data'],30)\n"
      ]
    },
    {
      "cell_type": "code",
      "execution_count": 321,
      "metadata": {
        "execution": {
          "iopub.status.busy": "2022-11-21T11:07:08.958674Z",
          "iopub.status.idle": "2022-11-21T11:07:08.959099Z",
          "shell.execute_reply": "2022-11-21T11:07:08.958916Z",
          "shell.execute_reply.started": "2022-11-21T11:07:08.958896Z"
        },
        "id": "Xny30f19aMce",
        "trusted": true
      },
      "outputs": [],
      "source": [
        "target0 = main_df[main_df['target']==0]['processed_data']\n",
        "target1 = main_df[main_df['target']==1]['processed_data']\n"
      ]
    },
    {
      "cell_type": "code",
      "execution_count": 322,
      "metadata": {
        "execution": {
          "iopub.status.busy": "2022-11-21T11:07:08.960261Z",
          "iopub.status.idle": "2022-11-21T11:07:08.960633Z",
          "shell.execute_reply": "2022-11-21T11:07:08.960459Z",
          "shell.execute_reply.started": "2022-11-21T11:07:08.960442Z"
        },
        "id": "UvSmXKf-aQdt",
        "trusted": true
      },
      "outputs": [],
      "source": [
        "common_words(target0,30)\n"
      ]
    },
    {
      "cell_type": "code",
      "execution_count": 323,
      "metadata": {
        "execution": {
          "iopub.status.busy": "2022-11-21T11:07:08.962356Z",
          "iopub.status.idle": "2022-11-21T11:07:08.962721Z",
          "shell.execute_reply": "2022-11-21T11:07:08.962559Z",
          "shell.execute_reply.started": "2022-11-21T11:07:08.962541Z"
        },
        "id": "5iKPtzAvaTyj",
        "trusted": true
      },
      "outputs": [],
      "source": [
        "common_words(target1,30)\n"
      ]
    },
    {
      "cell_type": "code",
      "execution_count": 324,
      "metadata": {
        "execution": {
          "iopub.status.busy": "2022-11-21T11:07:08.963827Z",
          "iopub.status.idle": "2022-11-21T11:07:08.964260Z",
          "shell.execute_reply": "2022-11-21T11:07:08.964088Z",
          "shell.execute_reply.started": "2022-11-21T11:07:08.964069Z"
        },
        "id": "6kVihGuG32vK",
        "trusted": true
      },
      "outputs": [],
      "source": [
        "from wordcloud import WordCloud\n",
        "all_words = ' '.join([text for text in main_df['question_text']])\n",
        "wordcloud = WordCloud(width=800, height=500, random_state=21, max_font_size=110).generate(all_words)\n",
        "\n",
        "plt.figure(figsize=(10, 7))\n",
        "plt.imshow(wordcloud, interpolation=\"bilinear\")\n",
        "plt.axis('off')\n",
        "plt.show()"
      ]
    },
    {
      "cell_type": "code",
      "execution_count": 325,
      "metadata": {
        "execution": {
          "iopub.status.busy": "2022-11-21T11:07:08.965351Z",
          "iopub.status.idle": "2022-11-21T11:07:08.965715Z",
          "shell.execute_reply": "2022-11-21T11:07:08.965546Z",
          "shell.execute_reply.started": "2022-11-21T11:07:08.965530Z"
        },
        "id": "p1_OSshfYdhk",
        "trusted": true
      },
      "outputs": [],
      "source": [
        "from wordcloud import WordCloud\n",
        "all_words = ' '.join([text for text in main_df['question_text'][main_df['target'] == 0]])\n",
        "wordcloud = WordCloud(width=800, height=500, random_state=21, max_font_size=110).generate(all_words)\n",
        "\n",
        "plt.figure(figsize=(10, 7))\n",
        "plt.imshow(wordcloud, interpolation=\"bilinear\")\n",
        "plt.axis('off')\n",
        "plt.show()"
      ]
    },
    {
      "cell_type": "code",
      "execution_count": 326,
      "metadata": {
        "execution": {
          "iopub.status.busy": "2022-11-21T11:07:08.967700Z",
          "iopub.status.idle": "2022-11-21T11:07:08.968275Z",
          "shell.execute_reply": "2022-11-21T11:07:08.968008Z",
          "shell.execute_reply.started": "2022-11-21T11:07:08.967982Z"
        },
        "id": "f41OGkW2QLG_",
        "trusted": true
      },
      "outputs": [],
      "source": [
        "from wordcloud import WordCloud\n",
        "all_words = ' '.join([text for text in main_df['question_text'][main_df['target'] == 1]])\n",
        "wordcloud = WordCloud(width=800, height=500, random_state=21, max_font_size=110).generate(all_words)\n",
        "\n",
        "plt.figure(figsize=(10, 7))\n",
        "plt.imshow(wordcloud, interpolation=\"bilinear\")\n",
        "plt.axis('off')\n",
        "plt.show()"
      ]
    },
    {
      "cell_type": "code",
      "execution_count": 327,
      "metadata": {
        "execution": {
          "iopub.status.busy": "2022-11-21T11:07:08.969486Z",
          "iopub.status.idle": "2022-11-21T11:07:08.970032Z",
          "shell.execute_reply": "2022-11-21T11:07:08.969760Z",
          "shell.execute_reply.started": "2022-11-21T11:07:08.969734Z"
        },
        "id": "ArLphU2wOrWh",
        "trusted": true
      },
      "outputs": [],
      "source": [
        "# from sklearn.feature_extraction.text import TfidfVectorizer\n",
        "# vectorizer = TfidfVectorizer()\n",
        "\n",
        "# features = vectorizer.fit_transform(complete_df['question_text'])\n"
      ]
    },
    {
      "cell_type": "code",
      "execution_count": 328,
      "metadata": {},
      "outputs": [],
      "source": [
        "from sklearn.feature_extraction.text import CountVectorizer\n",
        "\n",
        "vectorizer = CountVectorizer(ngram_range = (1,3))\n",
        "\n",
        "features = vectorizer.fit_transform(complete_df['question_text'])"
      ]
    },
    {
      "cell_type": "code",
      "execution_count": 329,
      "metadata": {
        "execution": {
          "iopub.status.busy": "2022-11-21T11:07:08.971750Z",
          "iopub.status.idle": "2022-11-21T11:07:08.972308Z",
          "shell.execute_reply": "2022-11-21T11:07:08.972042Z",
          "shell.execute_reply.started": "2022-11-21T11:07:08.972017Z"
        },
        "id": "hC6VhX3JSxyh",
        "trusted": true
      },
      "outputs": [],
      "source": [
        "# from sklearn.feature_extraction.text import TfidfVectorizer"
      ]
    },
    {
      "cell_type": "code",
      "execution_count": 330,
      "metadata": {
        "execution": {
          "iopub.status.busy": "2022-11-21T11:07:08.974082Z",
          "iopub.status.idle": "2022-11-21T11:07:08.974626Z",
          "shell.execute_reply": "2022-11-21T11:07:08.974375Z",
          "shell.execute_reply.started": "2022-11-21T11:07:08.974350Z"
        },
        "id": "RrF7k1GXKLGB",
        "trusted": true
      },
      "outputs": [
        {
          "data": {
            "text/plain": [
              "0"
            ]
          },
          "execution_count": 330,
          "metadata": {},
          "output_type": "execute_result"
        }
      ],
      "source": [
        "gc.collect()"
      ]
    },
    {
      "attachments": {},
      "cell_type": "markdown",
      "metadata": {
        "id": "uuFbvO82Iwpr"
      },
      "source": [
        "TFIDF vectorizer"
      ]
    },
    {
      "cell_type": "code",
      "execution_count": 331,
      "metadata": {
        "execution": {
          "iopub.status.busy": "2022-11-21T11:07:08.975668Z",
          "iopub.status.idle": "2022-11-21T11:07:08.976220Z",
          "shell.execute_reply": "2022-11-21T11:07:08.975958Z",
          "shell.execute_reply.started": "2022-11-21T11:07:08.975931Z"
        },
        "id": "IPpWmmhzSmDv",
        "trusted": true
      },
      "outputs": [],
      "source": [
        "# word_vect = TfidfVectorizer(strip_accents = 'unicode', ngram_range = (2, 6),\n",
        "#                             analyzer = 'char', sublinear_tf = True, stop_words = 'english',\n",
        "#                             min_df = 2, max_df = 0.5, max_features = 20000)\n",
        "    \n",
        "# char_train_features = word_vect.fit_transform(main_df['question_text'])\n",
        "# char_test_features = word_vect.transform(test_df['question_text'])"
      ]
    },
    {
      "cell_type": "code",
      "execution_count": 333,
      "metadata": {
        "execution": {
          "iopub.status.busy": "2022-11-21T11:07:08.983237Z",
          "iopub.status.idle": "2022-11-21T11:07:08.983619Z",
          "shell.execute_reply": "2022-11-21T11:07:08.983437Z",
          "shell.execute_reply.started": "2022-11-21T11:07:08.983420Z"
        },
        "id": "XVKDNliIUs6C",
        "trusted": true
      },
      "outputs": [],
      "source": [
        "# # TF-IDF Vectorization of words\n",
        "# word_vect = TfidfVectorizer(strip_accents = 'unicode', ngram_range = (1, 2),\n",
        "#                             analyzer = 'word', sublinear_tf = True, stop_words = 'english',                         \n",
        "#                             min_df = 2, max_df = 0.5, max_features = 20000)\n",
        "\n",
        "# word_train_features = word_vect.fit_transform(main_df['question_text'])\n",
        "# word_test_features = word_vect.transform(test_df['question_text'])"
      ]
    },
    {
      "cell_type": "code",
      "execution_count": 335,
      "metadata": {
        "execution": {
          "iopub.status.busy": "2022-11-21T11:07:08.986237Z",
          "iopub.status.idle": "2022-11-21T11:07:08.986601Z",
          "shell.execute_reply": "2022-11-21T11:07:08.986435Z",
          "shell.execute_reply.started": "2022-11-21T11:07:08.986418Z"
        },
        "id": "Aj-w3_DPcUNV",
        "trusted": true
      },
      "outputs": [],
      "source": [
        "# from scipy.sparse import hstack\n",
        "# train_features = hstack([word_train_features , char_train_features])\n",
        "# test_features = hstack([word_test_features , char_test_features])\n",
        "# print(train_features.shape)"
      ]
    },
    {
      "cell_type": "code",
      "execution_count": 336,
      "metadata": {
        "execution": {
          "iopub.status.busy": "2022-11-21T11:07:08.987638Z",
          "iopub.status.idle": "2022-11-21T11:07:08.988030Z",
          "shell.execute_reply": "2022-11-21T11:07:08.987831Z",
          "shell.execute_reply.started": "2022-11-21T11:07:08.987814Z"
        },
        "id": "gDIQG-0IPUwb",
        "trusted": true
      },
      "outputs": [],
      "source": [
        "train_data = vectorizer.transform(main_df['question_text'])"
      ]
    },
    {
      "cell_type": "code",
      "execution_count": 337,
      "metadata": {
        "execution": {
          "iopub.status.busy": "2022-11-21T11:07:08.988975Z",
          "iopub.status.idle": "2022-11-21T11:07:08.989344Z",
          "shell.execute_reply": "2022-11-21T11:07:08.989173Z",
          "shell.execute_reply.started": "2022-11-21T11:07:08.989155Z"
        },
        "id": "jmQwJ-uAO8Z2",
        "trusted": true
      },
      "outputs": [],
      "source": [
        "test_data = vectorizer.transform(test_df['question_text'])"
      ]
    },
    {
      "cell_type": "code",
      "execution_count": 338,
      "metadata": {
        "execution": {
          "iopub.status.busy": "2022-11-21T11:07:08.990531Z",
          "iopub.status.idle": "2022-11-21T11:07:08.990899Z",
          "shell.execute_reply": "2022-11-21T11:07:08.990720Z",
          "shell.execute_reply.started": "2022-11-21T11:07:08.990703Z"
        },
        "id": "WqPyqAoYPfiB",
        "trusted": true
      },
      "outputs": [],
      "source": [
        "model = LogisticRegression(class_weight={0:0.4,1:0.4},max_iter=1500, solver='lbfgs', penalty = 'l2')\n",
        "\n"
      ]
    },
    {
      "cell_type": "markdown",
      "metadata": {
        "id": "lV4jrkyIIwpt"
      },
      "source": [
        "MLPClassifier"
      ]
    },
    {
      "cell_type": "markdown",
      "metadata": {
        "id": "f33NC8edIwpt"
      },
      "source": [
        "<!-- from sklearn.neural_network import MLPClassifier\n",
        "from sklearn.datasets import make_classification -->"
      ]
    },
    {
      "cell_type": "code",
      "execution_count": 339,
      "metadata": {
        "id": "vFCNqW3KIwpt"
      },
      "outputs": [],
      "source": [
        "# model = MLPClassifier(hidden_layer_sizes=5,activation='relu', learning_rate='invscaling',random_state=50, max_iter=35)"
      ]
    },
    {
      "cell_type": "markdown",
      "metadata": {
        "id": "iWOpDQezK_SQ"
      },
      "source": [
        "XGBoost"
      ]
    },
    {
      "cell_type": "code",
      "execution_count": 340,
      "metadata": {
        "execution": {
          "iopub.status.busy": "2022-11-21T11:07:08.991812Z",
          "iopub.status.idle": "2022-11-21T11:07:08.992183Z",
          "shell.execute_reply": "2022-11-21T11:07:08.992015Z",
          "shell.execute_reply.started": "2022-11-21T11:07:08.991998Z"
        },
        "id": "2CF3ajqQK0gq",
        "trusted": true
      },
      "outputs": [],
      "source": [
        "# import xgboost as xgb"
      ]
    },
    {
      "cell_type": "code",
      "execution_count": 341,
      "metadata": {
        "execution": {
          "iopub.status.busy": "2022-11-21T11:07:08.993003Z",
          "iopub.status.idle": "2022-11-21T11:07:08.993367Z",
          "shell.execute_reply": "2022-11-21T11:07:08.993196Z",
          "shell.execute_reply.started": "2022-11-21T11:07:08.993180Z"
        },
        "id": "9qOZqP6oJx0g",
        "trusted": true
      },
      "outputs": [],
      "source": [
        "# model = xgb.XGBClassifier(objective=\"binary:logistic\", random_state=42)"
      ]
    },
    {
      "cell_type": "markdown",
      "metadata": {
        "id": "-HNXlH16VOF0"
      },
      "source": [
        "Decision Tree"
      ]
    },
    {
      "cell_type": "code",
      "execution_count": 342,
      "metadata": {
        "execution": {
          "iopub.status.busy": "2022-11-21T11:07:08.994411Z",
          "iopub.status.idle": "2022-11-21T11:07:08.994758Z",
          "shell.execute_reply": "2022-11-21T11:07:08.994599Z",
          "shell.execute_reply.started": "2022-11-21T11:07:08.994583Z"
        },
        "id": "0bPCeQPMVbZZ",
        "trusted": true
      },
      "outputs": [],
      "source": [
        "# from sklearn.tree import DecisionTreeClassifier"
      ]
    },
    {
      "cell_type": "code",
      "execution_count": 343,
      "metadata": {
        "execution": {
          "iopub.status.busy": "2022-11-21T11:07:08.996202Z",
          "iopub.status.idle": "2022-11-21T11:07:08.996550Z",
          "shell.execute_reply": "2022-11-21T11:07:08.996392Z",
          "shell.execute_reply.started": "2022-11-21T11:07:08.996375Z"
        },
        "id": "ZciEaXi_VHwa",
        "trusted": true
      },
      "outputs": [],
      "source": [
        "# model_1 = DecisionTreeClassifier(random_state=0)"
      ]
    },
    {
      "cell_type": "markdown",
      "metadata": {
        "id": "deDGqXgOIwpv"
      },
      "source": [
        "MultinomialNB"
      ]
    },
    {
      "cell_type": "code",
      "execution_count": 344,
      "metadata": {
        "id": "kBuq396-VMpf"
      },
      "outputs": [],
      "source": [
        "# model_2 = MultinomialNB(alpha=0.001)"
      ]
    },
    {
      "cell_type": "code",
      "execution_count": 345,
      "metadata": {
        "execution": {
          "iopub.status.busy": "2022-11-21T11:07:08.997510Z",
          "iopub.status.idle": "2022-11-21T11:07:08.997850Z",
          "shell.execute_reply": "2022-11-21T11:07:08.997692Z",
          "shell.execute_reply.started": "2022-11-21T11:07:08.997676Z"
        },
        "id": "xpXE1ndWQFXj",
        "trusted": true
      },
      "outputs": [],
      "source": [
        "from sklearn.model_selection import train_test_split\n",
        "from sklearn import metrics\n",
        "from sklearn.metrics import f1_score"
      ]
    },
    {
      "cell_type": "code",
      "execution_count": 346,
      "metadata": {
        "execution": {
          "iopub.status.busy": "2022-11-21T11:07:08.999182Z",
          "iopub.status.idle": "2022-11-21T11:07:08.999531Z",
          "shell.execute_reply": "2022-11-21T11:07:08.999373Z",
          "shell.execute_reply.started": "2022-11-21T11:07:08.999357Z"
        },
        "id": "poXB7bidP6mv",
        "trusted": true
      },
      "outputs": [],
      "source": [
        "x_train, x_valid, y_train, y_valid = train_test_split(train_data, main_df['target'], test_size=0.001, random_state=43)"
      ]
    },
    {
      "cell_type": "code",
      "execution_count": 347,
      "metadata": {
        "colab": {
          "base_uri": "https://localhost:8080/"
        },
        "execution": {
          "iopub.status.busy": "2022-11-21T11:07:09.000792Z",
          "iopub.status.idle": "2022-11-21T11:07:09.001170Z",
          "shell.execute_reply": "2022-11-21T11:07:09.000999Z",
          "shell.execute_reply.started": "2022-11-21T11:07:09.000981Z"
        },
        "id": "cUPk8MxjQIBr",
        "outputId": "6f33eff7-cc21-4dff-f8af-573d8bbbef1d",
        "trusted": true
      },
      "outputs": [],
      "source": [
        "model.fit(x_train, y_train)"
      ]
    },
    {
      "cell_type": "code",
      "execution_count": null,
      "metadata": {
        "execution": {
          "iopub.status.busy": "2022-11-21T11:07:09.002256Z",
          "iopub.status.idle": "2022-11-21T11:07:09.002604Z",
          "shell.execute_reply": "2022-11-21T11:07:09.002444Z",
          "shell.execute_reply.started": "2022-11-21T11:07:09.002427Z"
        },
        "id": "X5EmR-uRUD61",
        "trusted": true
      },
      "outputs": [],
      "source": [
        "# print(x_train)"
      ]
    },
    {
      "cell_type": "code",
      "execution_count": null,
      "metadata": {
        "execution": {
          "iopub.status.busy": "2022-11-21T11:07:09.003825Z",
          "iopub.status.idle": "2022-11-21T11:07:09.004212Z",
          "shell.execute_reply": "2022-11-21T11:07:09.004038Z",
          "shell.execute_reply.started": "2022-11-21T11:07:09.004021Z"
        },
        "id": "dFLGmxSsrcDj",
        "trusted": true
      },
      "outputs": [],
      "source": [
        "train_pred_prob = model.predict_proba(x_train)[:, 1]"
      ]
    },
    {
      "cell_type": "code",
      "execution_count": null,
      "metadata": {
        "colab": {
          "base_uri": "https://localhost:8080/"
        },
        "execution": {
          "iopub.status.busy": "2022-11-21T11:07:09.006101Z",
          "iopub.status.idle": "2022-11-21T11:07:09.006499Z",
          "shell.execute_reply": "2022-11-21T11:07:09.006307Z",
          "shell.execute_reply.started": "2022-11-21T11:07:09.006290Z"
        },
        "id": "50P_4yUPQSdZ",
        "outputId": "193128b1-2624-4c2f-cd41-3450de63b753",
        "trusted": true
      },
      "outputs": [
        {
          "name": "stderr",
          "output_type": "stream",
          "text": [
            "C:\\Users\\LENOVO\\AppData\\Local\\Temp\\ipykernel_512\\3378707217.py:1: DeprecationWarning: `np.int` is a deprecated alias for the builtin `int`. To silence this warning, use `int` by itself. Doing this will not modify any behavior and is safe. When replacing `np.int`, you may wish to use e.g. `np.int64` or `np.int32` to specify the precision. If you wish to review your current use, check the release note link for additional information.\n",
            "Deprecated in NumPy 1.20; for more details and guidance: https://numpy.org/devdocs/release/1.20.0-notes.html#deprecations\n",
            "  y_pred = (train_pred_prob > 0.2).astype(np.int)\n"
          ]
        }
      ],
      "source": [
        "y_pred = (train_pred_prob > 0.2).astype(np.int)"
      ]
    },
    {
      "cell_type": "code",
      "execution_count": null,
      "metadata": {
        "execution": {
          "iopub.status.busy": "2022-11-21T11:07:09.007778Z",
          "iopub.status.idle": "2022-11-21T11:07:09.008173Z",
          "shell.execute_reply": "2022-11-21T11:07:09.008006Z",
          "shell.execute_reply.started": "2022-11-21T11:07:09.007988Z"
        },
        "id": "7pOWagJJruzC",
        "trusted": true
      },
      "outputs": [],
      "source": [
        "Accuracy_training = metrics.accuracy_score(y_train, y_pred)*100"
      ]
    },
    {
      "cell_type": "code",
      "execution_count": null,
      "metadata": {
        "colab": {
          "base_uri": "https://localhost:8080/"
        },
        "execution": {
          "iopub.status.busy": "2022-11-21T11:07:09.009398Z",
          "iopub.status.idle": "2022-11-21T11:07:09.009759Z",
          "shell.execute_reply": "2022-11-21T11:07:09.009591Z",
          "shell.execute_reply.started": "2022-11-21T11:07:09.009575Z"
        },
        "id": "hm8xPDM_e2GK",
        "outputId": "02bc4fc5-5dc1-4ebe-a89b-5aba9693bc7d",
        "trusted": true
      },
      "outputs": [
        {
          "name": "stdout",
          "output_type": "stream",
          "text": [
            "ACCURACY ON MY TRAINING DATA :  95.3569696969697\n"
          ]
        }
      ],
      "source": [
        "print(\"ACCURACY ON MY TRAINING DATA : \", Accuracy_training)\n"
      ]
    },
    {
      "cell_type": "code",
      "execution_count": null,
      "metadata": {
        "colab": {
          "base_uri": "https://localhost:8080/"
        },
        "execution": {
          "iopub.status.busy": "2022-11-21T11:07:09.011021Z",
          "iopub.status.idle": "2022-11-21T11:07:09.011374Z",
          "shell.execute_reply": "2022-11-21T11:07:09.011213Z",
          "shell.execute_reply.started": "2022-11-21T11:07:09.011197Z"
        },
        "id": "OwLqE13sQVEU",
        "outputId": "beda1464-ab1e-4420-ee68-0ed10d3ef08a",
        "trusted": true
      },
      "outputs": [
        {
          "data": {
            "text/plain": [
              "0.6709899076658794"
            ]
          },
          "execution_count": 264,
          "metadata": {},
          "output_type": "execute_result"
        }
      ],
      "source": [
        "f1_score(y_train, y_pred)"
      ]
    },
    {
      "cell_type": "markdown",
      "metadata": {
        "id": "iY3E4_D8RItz"
      },
      "source": [
        "test data"
      ]
    },
    {
      "cell_type": "code",
      "execution_count": null,
      "metadata": {
        "execution": {
          "iopub.status.busy": "2022-11-21T11:07:09.012597Z",
          "iopub.status.idle": "2022-11-21T11:07:09.012980Z",
          "shell.execute_reply": "2022-11-21T11:07:09.012802Z",
          "shell.execute_reply.started": "2022-11-21T11:07:09.012786Z"
        },
        "id": "TmztbtTEENsc",
        "trusted": true
      },
      "outputs": [],
      "source": [
        "test_pred_prob = model.predict_proba(test_data)[:, 1]\n"
      ]
    },
    {
      "cell_type": "code",
      "execution_count": null,
      "metadata": {
        "colab": {
          "base_uri": "https://localhost:8080/"
        },
        "execution": {
          "iopub.status.busy": "2022-11-21T11:07:09.014195Z",
          "iopub.status.idle": "2022-11-21T11:07:09.014550Z",
          "shell.execute_reply": "2022-11-21T11:07:09.014390Z",
          "shell.execute_reply.started": "2022-11-21T11:07:09.014373Z"
        },
        "id": "NeifI4rNERcE",
        "outputId": "b33bfb0b-6f43-47e0-dc37-e096cbc68621",
        "trusted": true
      },
      "outputs": [
        {
          "name": "stderr",
          "output_type": "stream",
          "text": [
            "C:\\Users\\LENOVO\\AppData\\Local\\Temp\\ipykernel_512\\375613217.py:1: DeprecationWarning: `np.int` is a deprecated alias for the builtin `int`. To silence this warning, use `int` by itself. Doing this will not modify any behavior and is safe. When replacing `np.int`, you may wish to use e.g. `np.int64` or `np.int32` to specify the precision. If you wish to review your current use, check the release note link for additional information.\n",
            "Deprecated in NumPy 1.20; for more details and guidance: https://numpy.org/devdocs/release/1.20.0-notes.html#deprecations\n",
            "  y_test_pred = (test_pred_prob > 0.2).astype(np.int)\n"
          ]
        }
      ],
      "source": [
        "y_test_pred = (test_pred_prob > 0.2).astype(np.int)\n",
        "test_df['target'] = y_test_pred\n"
      ]
    },
    {
      "cell_type": "code",
      "execution_count": null,
      "metadata": {
        "execution": {
          "iopub.status.busy": "2022-11-21T11:07:09.015630Z",
          "iopub.status.idle": "2022-11-21T11:07:09.016009Z",
          "shell.execute_reply": "2022-11-21T11:07:09.015835Z",
          "shell.execute_reply.started": "2022-11-21T11:07:09.015818Z"
        },
        "id": "efoaTT-mETIy",
        "trusted": true
      },
      "outputs": [],
      "source": [
        "test_df.drop(['question_text'], axis = 'columns', inplace=True)\n",
        "test_df.to_csv(\"sample_submissions_final.csv\", index = False)"
      ]
    },
    {
      "cell_type": "markdown",
      "metadata": {
        "id": "-EOKOPnmHi8d"
      },
      "source": []
    },
    {
      "cell_type": "code",
      "execution_count": null,
      "metadata": {
        "id": "HeV1u7KXKs6i"
      },
      "outputs": [],
      "source": []
    }
  ],
  "metadata": {
    "colab": {
      "provenance": []
    },
    "kernelspec": {
      "display_name": "Python 3.10.5 64-bit",
      "language": "python",
      "name": "python3"
    },
    "language_info": {
      "codemirror_mode": {
        "name": "ipython",
        "version": 3
      },
      "file_extension": ".py",
      "mimetype": "text/x-python",
      "name": "python",
      "nbconvert_exporter": "python",
      "pygments_lexer": "ipython3",
      "version": "3.10.5"
    },
    "vscode": {
      "interpreter": {
        "hash": "369f2c481f4da34e4445cda3fffd2e751bd1c4d706f27375911949ba6bb62e1c"
      }
    }
  },
  "nbformat": 4,
  "nbformat_minor": 0
}
